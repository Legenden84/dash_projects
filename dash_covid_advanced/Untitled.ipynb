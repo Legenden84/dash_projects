{
 "cells": [
  {
   "cell_type": "code",
   "execution_count": 11,
   "id": "1aea72fa",
   "metadata": {},
   "outputs": [],
   "source": [
    "import dash\n",
    "from dash import dcc, html\n",
    "from dash.dependencies import Input, Output\n",
    "import plotly.graph_objs as go\n",
    "import pandas as pd"
   ]
  },
  {
   "cell_type": "code",
   "execution_count": 12,
   "id": "928d9d7e",
   "metadata": {},
   "outputs": [],
   "source": [
    "url_confirmed = 'https://raw.githubusercontent.com/CSSEGISandData/COVID-19/master/csse_covid_19_data/csse_covid_19_time_series/time_series_covid19_confirmed_global.csv'\n",
    "url_deaths = 'https://raw.githubusercontent.com/CSSEGISandData/COVID-19/master/csse_covid_19_data/csse_covid_19_time_series/time_series_covid19_deaths_global.csv'\n",
    "url_recovered = 'https://raw.githubusercontent.com/CSSEGISandData/COVID-19/master/csse_covid_19_data/csse_covid_19_time_series/time_series_covid19_recovered_global.csv'"
   ]
  },
  {
   "cell_type": "code",
   "execution_count": 19,
   "id": "553cd107",
   "metadata": {},
   "outputs": [],
   "source": [
    "confirmed = pd.read_csv(url_confirmed)"
   ]
  },
  {
   "cell_type": "code",
   "execution_count": 21,
   "id": "0eaa7a23",
   "metadata": {},
   "outputs": [],
   "source": [
    "deaths = pd.read_csv(url_deaths)"
   ]
  },
  {
   "cell_type": "code",
   "execution_count": 22,
   "id": "f2876350",
   "metadata": {},
   "outputs": [],
   "source": [
    "recovered = pd.read_csv(url_recovered)"
   ]
  },
  {
   "cell_type": "code",
   "execution_count": 23,
   "id": "7fb423f3",
   "metadata": {},
   "outputs": [],
   "source": [
    "date1 = confirmed.columns[4:]"
   ]
  },
  {
   "cell_type": "code",
   "execution_count": 24,
   "id": "ed605d38",
   "metadata": {},
   "outputs": [],
   "source": [
    "total_confirmed = confirmed.melt(id_vars=['Province/State', 'Country/Region', 'Lat', 'Long'], value_vars=date1,\n",
    "                                 var_name='date', value_name='confirmed')"
   ]
  },
  {
   "cell_type": "code",
   "execution_count": 25,
   "id": "cad516b1",
   "metadata": {},
   "outputs": [],
   "source": [
    "date2 = deaths.columns[4:]"
   ]
  },
  {
   "cell_type": "code",
   "execution_count": 26,
   "id": "53e036a4",
   "metadata": {},
   "outputs": [],
   "source": [
    "total_deaths = deaths.melt(id_vars=['Province/State', 'Country/Region', 'Lat', 'Long'], value_vars=date2,\n",
    "                           var_name='date', value_name='death')"
   ]
  },
  {
   "cell_type": "code",
   "execution_count": 27,
   "id": "bf6caf9d",
   "metadata": {},
   "outputs": [],
   "source": [
    "date3 = recovered.columns[4:]"
   ]
  },
  {
   "cell_type": "code",
   "execution_count": 28,
   "id": "832d4896",
   "metadata": {},
   "outputs": [],
   "source": [
    "total_recovered = recovered.melt(id_vars=['Province/State', 'Country/Region', 'Lat', 'Long'], value_vars=date3,\n",
    "                                 var_name='date', value_name='recovered')"
   ]
  },
  {
   "cell_type": "code",
   "execution_count": 29,
   "id": "69711b24",
   "metadata": {},
   "outputs": [],
   "source": [
    "covid_data = total_confirmed.merge(right=total_deaths, how='left',\n",
    "                                   on=['Province/State', 'Country/Region', 'date', 'Lat', 'Long'])"
   ]
  },
  {
   "cell_type": "code",
   "execution_count": 30,
   "id": "4c993653",
   "metadata": {},
   "outputs": [],
   "source": [
    "covid_data = covid_data.merge(right=total_recovered, how='left',\n",
    "                              on=['Province/State', 'Country/Region', 'date', 'Lat', 'Long'])"
   ]
  },
  {
   "cell_type": "code",
   "execution_count": 31,
   "id": "ea9066ce",
   "metadata": {},
   "outputs": [],
   "source": [
    "covid_data['date'] = pd.to_datetime(covid_data['date'])"
   ]
  },
  {
   "cell_type": "code",
   "execution_count": 32,
   "id": "28954e81",
   "metadata": {},
   "outputs": [
    {
     "data": {
      "text/plain": [
       "Province/State    176988\n",
       "Country/Region         0\n",
       "Lat                 1806\n",
       "Long                1806\n",
       "date                   0\n",
       "confirmed              0\n",
       "death                  0\n",
       "recovered          18963\n",
       "dtype: int64"
      ]
     },
     "execution_count": 32,
     "metadata": {},
     "output_type": "execute_result"
    }
   ],
   "source": [
    "covid_data.isna().sum()"
   ]
  },
  {
   "cell_type": "code",
   "execution_count": 33,
   "id": "5cef35cb",
   "metadata": {},
   "outputs": [],
   "source": [
    "covid_data['recovered'] = covid_data['recovered'].fillna(0)"
   ]
  },
  {
   "cell_type": "code",
   "execution_count": 34,
   "id": "0e607af1",
   "metadata": {},
   "outputs": [],
   "source": [
    "covid_data['active'] = covid_data['confirmed'] - covid_data['death'] - covid_data['recovered']"
   ]
  },
  {
   "cell_type": "code",
   "execution_count": 35,
   "id": "41f43ed6",
   "metadata": {},
   "outputs": [],
   "source": [
    "covid_data_1 = covid_data.groupby(['date'])[['confirmed', 'death', 'recovered', 'active']].sum().reset_index()"
   ]
  },
  {
   "cell_type": "code",
   "execution_count": 36,
   "id": "d6454d86",
   "metadata": {},
   "outputs": [],
   "source": [
    "covid_data_2 = covid_data.groupby(['date', 'Country/Region'])[\n",
    "    ['confirmed', 'death', 'recovered', 'active']].sum().reset_index()"
   ]
  },
  {
   "cell_type": "code",
   "execution_count": 37,
   "id": "b732c8f3",
   "metadata": {},
   "outputs": [],
   "source": [
    "covid_data_dict = covid_data[['Country/Region', 'Lat', 'Long']]"
   ]
  },
  {
   "cell_type": "code",
   "execution_count": 38,
   "id": "8c1dcb95",
   "metadata": {},
   "outputs": [
    {
     "name": "stderr",
     "output_type": "stream",
     "text": [
      "C:\\Users\\tobia\\AppData\\Local\\Temp\\ipykernel_12580\\2506120362.py:1: UserWarning: DataFrame columns are not unique, some columns will be omitted.\n",
      "  list_locations = covid_data_dict.set_index('Country/Region')[['Lat', 'Long']].T.to_dict('dict')\n"
     ]
    }
   ],
   "source": [
    "list_locations = covid_data_dict.set_index('Country/Region')[['Lat', 'Long']].T.to_dict('dict')"
   ]
  },
  {
   "cell_type": "code",
   "execution_count": null,
   "id": "bdecdb63",
   "metadata": {},
   "outputs": [],
   "source": []
  }
 ],
 "metadata": {
  "kernelspec": {
   "display_name": "Python 3 (ipykernel)",
   "language": "python",
   "name": "python3"
  },
  "language_info": {
   "codemirror_mode": {
    "name": "ipython",
    "version": 3
   },
   "file_extension": ".py",
   "mimetype": "text/x-python",
   "name": "python",
   "nbconvert_exporter": "python",
   "pygments_lexer": "ipython3",
   "version": "3.8.2"
  }
 },
 "nbformat": 4,
 "nbformat_minor": 5
}
